{
 "cells": [
  {
   "cell_type": "markdown",
   "metadata": {},
   "source": [
    "Você olha para um relógio e são exatamente 2 da tarde. Você coloca um alarme para tocar daqui a 51 horas. A que horas o alarme ira tocar?"
   ]
  },
  {
   "cell_type": "code",
   "execution_count": 2,
   "metadata": {},
   "outputs": [
    {
     "name": "stdout",
     "output_type": "stream",
     "text": [
      "o alarme tocará às 5\n"
     ]
    }
   ],
   "source": [
    "hora_atual = 2\n",
    "alarme = 51 % 24\n",
    "\n",
    "alarme_toca = hora_atual + alarme\n",
    "\n",
    "print(\"o alarme tocará às\", alarme_toca)"
   ]
  },
  {
   "cell_type": "markdown",
   "metadata": {},
   "source": [
    "Escreva um programa em Python que resolve a versão geral do problema acima. Peça ao usuário que entre com a hora atual (em horas) e que entre com o número de horas que deverá esperar antes do alarme tocar. Seu programa deve imprimir a hora que o alarme irá tocar."
   ]
  },
  {
   "cell_type": "code",
   "execution_count": 12,
   "metadata": {},
   "outputs": [
    {
     "name": "stdout",
     "output_type": "stream",
     "text": [
      "Digite a hora atual: 17\n",
      "Digite o número de horas que o alarme deve aguardar: 8\n",
      "O alarme tocará às:  1\n"
     ]
    }
   ],
   "source": [
    "hora_atual = int(input('Digite a hora atual: '))\n",
    "alarme = int(input('Digite o número de horas que o alarme deve aguardar: '))\n",
    "\n",
    "hora_alarme = alarme % 24\n",
    "alarme_toca = (hora_atual + hora_alarme) % 24\n",
    "\n",
    "print('O alarme tocará às: ', alarme_toca)"
   ]
  }
 ],
 "metadata": {
  "kernelspec": {
   "display_name": "Python 3",
   "language": "python",
   "name": "python3"
  },
  "language_info": {
   "codemirror_mode": {
    "name": "ipython",
    "version": 3
   },
   "file_extension": ".py",
   "mimetype": "text/x-python",
   "name": "python",
   "nbconvert_exporter": "python",
   "pygments_lexer": "ipython3",
   "version": "3.6.4"
  }
 },
 "nbformat": 4,
 "nbformat_minor": 2
}
